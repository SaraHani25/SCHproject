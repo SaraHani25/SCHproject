{
 "cells": [
  {
   "cell_type": "code",
   "execution_count": 3,
   "id": "97638dcd-171f-4ee2-a703-8daceac2d5bf",
   "metadata": {},
   "outputs": [],
   "source": [
    "import numpy as np\n",
    "import pandas as pd \n",
    "import matplotlib.pyplot as plt\n",
    "import seaborn as sns"
   ]
  },
  {
   "cell_type": "code",
   "execution_count": 8,
   "id": "5a816d7b-b5be-48f5-b4e9-fd3a7a26dab3",
   "metadata": {},
   "outputs": [
    {
     "data": {
      "text/html": [
       "<div>\n",
       "<style scoped>\n",
       "    .dataframe tbody tr th:only-of-type {\n",
       "        vertical-align: middle;\n",
       "    }\n",
       "\n",
       "    .dataframe tbody tr th {\n",
       "        vertical-align: top;\n",
       "    }\n",
       "\n",
       "    .dataframe thead th {\n",
       "        text-align: right;\n",
       "    }\n",
       "</style>\n",
       "<table border=\"1\" class=\"dataframe\">\n",
       "  <thead>\n",
       "    <tr style=\"text-align: right;\">\n",
       "      <th></th>\n",
       "      <th>ADDRESS</th>\n",
       "      <th>SUBURB</th>\n",
       "      <th>PRICE</th>\n",
       "      <th>BEDROOMS</th>\n",
       "      <th>BATHROOMS</th>\n",
       "      <th>GARAGE</th>\n",
       "      <th>LAND_AREA</th>\n",
       "      <th>FLOOR_AREA</th>\n",
       "      <th>BUILD_YEAR</th>\n",
       "      <th>CBD_DIST</th>\n",
       "      <th>NEAREST_STN</th>\n",
       "      <th>NEAREST_STN_DIST</th>\n",
       "      <th>DATE_SOLD</th>\n",
       "      <th>POSTCODE</th>\n",
       "      <th>LATITUDE</th>\n",
       "      <th>LONGITUDE</th>\n",
       "      <th>NEAREST_SCH</th>\n",
       "      <th>NEAREST_SCH_DIST</th>\n",
       "      <th>NEAREST_SCH_RANK</th>\n",
       "    </tr>\n",
       "  </thead>\n",
       "  <tbody>\n",
       "    <tr>\n",
       "      <th>0</th>\n",
       "      <td>1 Acorn Place</td>\n",
       "      <td>South Lake</td>\n",
       "      <td>565000</td>\n",
       "      <td>4</td>\n",
       "      <td>2</td>\n",
       "      <td>2.0</td>\n",
       "      <td>600</td>\n",
       "      <td>160</td>\n",
       "      <td>2003.0</td>\n",
       "      <td>18300</td>\n",
       "      <td>Cockburn Central Station</td>\n",
       "      <td>1800</td>\n",
       "      <td>09-2018\\r</td>\n",
       "      <td>6164</td>\n",
       "      <td>-32.115900</td>\n",
       "      <td>115.842450</td>\n",
       "      <td>LAKELAND SENIOR HIGH SCHOOL</td>\n",
       "      <td>0.828339</td>\n",
       "      <td>NaN</td>\n",
       "    </tr>\n",
       "    <tr>\n",
       "      <th>1</th>\n",
       "      <td>1 Addis Way</td>\n",
       "      <td>Wandi</td>\n",
       "      <td>365000</td>\n",
       "      <td>3</td>\n",
       "      <td>2</td>\n",
       "      <td>2.0</td>\n",
       "      <td>351</td>\n",
       "      <td>139</td>\n",
       "      <td>2013.0</td>\n",
       "      <td>26900</td>\n",
       "      <td>Kwinana Station</td>\n",
       "      <td>4900</td>\n",
       "      <td>02-2019\\r</td>\n",
       "      <td>6167</td>\n",
       "      <td>-32.193470</td>\n",
       "      <td>115.859554</td>\n",
       "      <td>ATWELL COLLEGE</td>\n",
       "      <td>5.524324</td>\n",
       "      <td>129.0</td>\n",
       "    </tr>\n",
       "    <tr>\n",
       "      <th>2</th>\n",
       "      <td>1 Ainsley Court</td>\n",
       "      <td>Camillo</td>\n",
       "      <td>287000</td>\n",
       "      <td>3</td>\n",
       "      <td>1</td>\n",
       "      <td>1.0</td>\n",
       "      <td>719</td>\n",
       "      <td>86</td>\n",
       "      <td>1979.0</td>\n",
       "      <td>22600</td>\n",
       "      <td>Challis Station</td>\n",
       "      <td>1900</td>\n",
       "      <td>06-2015\\r</td>\n",
       "      <td>6111</td>\n",
       "      <td>-32.120578</td>\n",
       "      <td>115.993579</td>\n",
       "      <td>KELMSCOTT SENIOR HIGH SCHOOL</td>\n",
       "      <td>1.649178</td>\n",
       "      <td>113.0</td>\n",
       "    </tr>\n",
       "    <tr>\n",
       "      <th>3</th>\n",
       "      <td>1 Albert Street</td>\n",
       "      <td>Bellevue</td>\n",
       "      <td>255000</td>\n",
       "      <td>2</td>\n",
       "      <td>1</td>\n",
       "      <td>2.0</td>\n",
       "      <td>651</td>\n",
       "      <td>59</td>\n",
       "      <td>1953.0</td>\n",
       "      <td>17900</td>\n",
       "      <td>Midland Station</td>\n",
       "      <td>3600</td>\n",
       "      <td>07-2018\\r</td>\n",
       "      <td>6056</td>\n",
       "      <td>-31.900547</td>\n",
       "      <td>116.038009</td>\n",
       "      <td>SWAN VIEW SENIOR HIGH SCHOOL</td>\n",
       "      <td>1.571401</td>\n",
       "      <td>NaN</td>\n",
       "    </tr>\n",
       "    <tr>\n",
       "      <th>4</th>\n",
       "      <td>1 Aman Place</td>\n",
       "      <td>Lockridge</td>\n",
       "      <td>325000</td>\n",
       "      <td>4</td>\n",
       "      <td>1</td>\n",
       "      <td>2.0</td>\n",
       "      <td>466</td>\n",
       "      <td>131</td>\n",
       "      <td>1998.0</td>\n",
       "      <td>11200</td>\n",
       "      <td>Bassendean Station</td>\n",
       "      <td>2000</td>\n",
       "      <td>11-2016\\r</td>\n",
       "      <td>6054</td>\n",
       "      <td>-31.885790</td>\n",
       "      <td>115.947780</td>\n",
       "      <td>KIARA COLLEGE</td>\n",
       "      <td>1.514922</td>\n",
       "      <td>NaN</td>\n",
       "    </tr>\n",
       "  </tbody>\n",
       "</table>\n",
       "</div>"
      ],
      "text/plain": [
       "           ADDRESS      SUBURB   PRICE  BEDROOMS  BATHROOMS  GARAGE  \\\n",
       "0    1 Acorn Place  South Lake  565000         4          2     2.0   \n",
       "1      1 Addis Way       Wandi  365000         3          2     2.0   \n",
       "2  1 Ainsley Court     Camillo  287000         3          1     1.0   \n",
       "3  1 Albert Street    Bellevue  255000         2          1     2.0   \n",
       "4     1 Aman Place   Lockridge  325000         4          1     2.0   \n",
       "\n",
       "   LAND_AREA  FLOOR_AREA  BUILD_YEAR  CBD_DIST               NEAREST_STN  \\\n",
       "0        600         160      2003.0     18300  Cockburn Central Station   \n",
       "1        351         139      2013.0     26900           Kwinana Station   \n",
       "2        719          86      1979.0     22600           Challis Station   \n",
       "3        651          59      1953.0     17900           Midland Station   \n",
       "4        466         131      1998.0     11200        Bassendean Station   \n",
       "\n",
       "   NEAREST_STN_DIST  DATE_SOLD  POSTCODE   LATITUDE   LONGITUDE  \\\n",
       "0              1800  09-2018\\r      6164 -32.115900  115.842450   \n",
       "1              4900  02-2019\\r      6167 -32.193470  115.859554   \n",
       "2              1900  06-2015\\r      6111 -32.120578  115.993579   \n",
       "3              3600  07-2018\\r      6056 -31.900547  116.038009   \n",
       "4              2000  11-2016\\r      6054 -31.885790  115.947780   \n",
       "\n",
       "                    NEAREST_SCH  NEAREST_SCH_DIST  NEAREST_SCH_RANK  \n",
       "0   LAKELAND SENIOR HIGH SCHOOL          0.828339               NaN  \n",
       "1                ATWELL COLLEGE          5.524324             129.0  \n",
       "2  KELMSCOTT SENIOR HIGH SCHOOL          1.649178             113.0  \n",
       "3  SWAN VIEW SENIOR HIGH SCHOOL          1.571401               NaN  \n",
       "4                 KIARA COLLEGE          1.514922               NaN  "
      ]
     },
     "execution_count": 8,
     "metadata": {},
     "output_type": "execute_result"
    }
   ],
   "source": [
    "df=pd.read_csv(r\"C:\\Users\\sara hani\\Downloads\\all_perth_310121.csv\")\n",
    "df.head()"
   ]
  },
  {
   "cell_type": "code",
   "execution_count": 9,
   "id": "242f43cf-8630-45b1-adbd-75e6222e96da",
   "metadata": {},
   "outputs": [
    {
     "name": "stdout",
     "output_type": "stream",
     "text": [
      "<class 'pandas.core.frame.DataFrame'>\n",
      "RangeIndex: 33656 entries, 0 to 33655\n",
      "Data columns (total 19 columns):\n",
      " #   Column            Non-Null Count  Dtype  \n",
      "---  ------            --------------  -----  \n",
      " 0   ADDRESS           33656 non-null  object \n",
      " 1   SUBURB            33656 non-null  object \n",
      " 2   PRICE             33656 non-null  int64  \n",
      " 3   BEDROOMS          33656 non-null  int64  \n",
      " 4   BATHROOMS         33656 non-null  int64  \n",
      " 5   GARAGE            31178 non-null  float64\n",
      " 6   LAND_AREA         33656 non-null  int64  \n",
      " 7   FLOOR_AREA        33656 non-null  int64  \n",
      " 8   BUILD_YEAR        30501 non-null  float64\n",
      " 9   CBD_DIST          33656 non-null  int64  \n",
      " 10  NEAREST_STN       33656 non-null  object \n",
      " 11  NEAREST_STN_DIST  33656 non-null  int64  \n",
      " 12  DATE_SOLD         33656 non-null  object \n",
      " 13  POSTCODE          33656 non-null  int64  \n",
      " 14  LATITUDE          33656 non-null  float64\n",
      " 15  LONGITUDE         33656 non-null  float64\n",
      " 16  NEAREST_SCH       33656 non-null  object \n",
      " 17  NEAREST_SCH_DIST  33656 non-null  float64\n",
      " 18  NEAREST_SCH_RANK  22704 non-null  float64\n",
      "dtypes: float64(6), int64(8), object(5)\n",
      "memory usage: 4.9+ MB\n"
     ]
    }
   ],
   "source": [
    "df.info()"
   ]
  },
  {
   "cell_type": "code",
   "execution_count": 10,
   "id": "7858ffe7-9469-40cb-9d3c-710f68dc6a51",
   "metadata": {},
   "outputs": [
    {
     "data": {
      "text/html": [
       "<div>\n",
       "<style scoped>\n",
       "    .dataframe tbody tr th:only-of-type {\n",
       "        vertical-align: middle;\n",
       "    }\n",
       "\n",
       "    .dataframe tbody tr th {\n",
       "        vertical-align: top;\n",
       "    }\n",
       "\n",
       "    .dataframe thead th {\n",
       "        text-align: right;\n",
       "    }\n",
       "</style>\n",
       "<table border=\"1\" class=\"dataframe\">\n",
       "  <thead>\n",
       "    <tr style=\"text-align: right;\">\n",
       "      <th></th>\n",
       "      <th>count</th>\n",
       "      <th>mean</th>\n",
       "      <th>std</th>\n",
       "      <th>min</th>\n",
       "      <th>25%</th>\n",
       "      <th>50%</th>\n",
       "      <th>75%</th>\n",
       "      <th>max</th>\n",
       "    </tr>\n",
       "  </thead>\n",
       "  <tbody>\n",
       "    <tr>\n",
       "      <th>PRICE</th>\n",
       "      <td>33656.0</td>\n",
       "      <td>637072.005794</td>\n",
       "      <td>355825.632737</td>\n",
       "      <td>51000.000000</td>\n",
       "      <td>410000.000000</td>\n",
       "      <td>535500.000000</td>\n",
       "      <td>760000.000000</td>\n",
       "      <td>2.440000e+06</td>\n",
       "    </tr>\n",
       "    <tr>\n",
       "      <th>BEDROOMS</th>\n",
       "      <td>33656.0</td>\n",
       "      <td>3.659110</td>\n",
       "      <td>0.752038</td>\n",
       "      <td>1.000000</td>\n",
       "      <td>3.000000</td>\n",
       "      <td>4.000000</td>\n",
       "      <td>4.000000</td>\n",
       "      <td>1.000000e+01</td>\n",
       "    </tr>\n",
       "    <tr>\n",
       "      <th>BATHROOMS</th>\n",
       "      <td>33656.0</td>\n",
       "      <td>1.823063</td>\n",
       "      <td>0.587427</td>\n",
       "      <td>1.000000</td>\n",
       "      <td>1.000000</td>\n",
       "      <td>2.000000</td>\n",
       "      <td>2.000000</td>\n",
       "      <td>1.600000e+01</td>\n",
       "    </tr>\n",
       "    <tr>\n",
       "      <th>GARAGE</th>\n",
       "      <td>31178.0</td>\n",
       "      <td>2.199917</td>\n",
       "      <td>1.365225</td>\n",
       "      <td>1.000000</td>\n",
       "      <td>2.000000</td>\n",
       "      <td>2.000000</td>\n",
       "      <td>2.000000</td>\n",
       "      <td>9.900000e+01</td>\n",
       "    </tr>\n",
       "    <tr>\n",
       "      <th>LAND_AREA</th>\n",
       "      <td>33656.0</td>\n",
       "      <td>2740.644016</td>\n",
       "      <td>16693.513215</td>\n",
       "      <td>61.000000</td>\n",
       "      <td>503.000000</td>\n",
       "      <td>682.000000</td>\n",
       "      <td>838.000000</td>\n",
       "      <td>9.999990e+05</td>\n",
       "    </tr>\n",
       "    <tr>\n",
       "      <th>FLOOR_AREA</th>\n",
       "      <td>33656.0</td>\n",
       "      <td>183.501545</td>\n",
       "      <td>72.102982</td>\n",
       "      <td>1.000000</td>\n",
       "      <td>130.000000</td>\n",
       "      <td>172.000000</td>\n",
       "      <td>222.250000</td>\n",
       "      <td>8.700000e+02</td>\n",
       "    </tr>\n",
       "    <tr>\n",
       "      <th>BUILD_YEAR</th>\n",
       "      <td>30501.0</td>\n",
       "      <td>1989.706436</td>\n",
       "      <td>20.964330</td>\n",
       "      <td>1868.000000</td>\n",
       "      <td>1978.000000</td>\n",
       "      <td>1995.000000</td>\n",
       "      <td>2005.000000</td>\n",
       "      <td>2.017000e+03</td>\n",
       "    </tr>\n",
       "    <tr>\n",
       "      <th>CBD_DIST</th>\n",
       "      <td>33656.0</td>\n",
       "      <td>19777.374465</td>\n",
       "      <td>11364.415413</td>\n",
       "      <td>681.000000</td>\n",
       "      <td>11200.000000</td>\n",
       "      <td>17500.000000</td>\n",
       "      <td>26600.000000</td>\n",
       "      <td>5.980000e+04</td>\n",
       "    </tr>\n",
       "    <tr>\n",
       "      <th>NEAREST_STN_DIST</th>\n",
       "      <td>33656.0</td>\n",
       "      <td>4523.371494</td>\n",
       "      <td>4495.064024</td>\n",
       "      <td>46.000000</td>\n",
       "      <td>1800.000000</td>\n",
       "      <td>3200.000000</td>\n",
       "      <td>5300.000000</td>\n",
       "      <td>3.550000e+04</td>\n",
       "    </tr>\n",
       "    <tr>\n",
       "      <th>POSTCODE</th>\n",
       "      <td>33656.0</td>\n",
       "      <td>6089.420074</td>\n",
       "      <td>62.167921</td>\n",
       "      <td>6003.000000</td>\n",
       "      <td>6050.000000</td>\n",
       "      <td>6069.000000</td>\n",
       "      <td>6150.000000</td>\n",
       "      <td>6.558000e+03</td>\n",
       "    </tr>\n",
       "    <tr>\n",
       "      <th>LATITUDE</th>\n",
       "      <td>33656.0</td>\n",
       "      <td>-31.960664</td>\n",
       "      <td>0.177780</td>\n",
       "      <td>-32.472979</td>\n",
       "      <td>-32.068437</td>\n",
       "      <td>-31.933231</td>\n",
       "      <td>-31.843818</td>\n",
       "      <td>-3.145745e+01</td>\n",
       "    </tr>\n",
       "    <tr>\n",
       "      <th>LONGITUDE</th>\n",
       "      <td>33656.0</td>\n",
       "      <td>115.879265</td>\n",
       "      <td>0.118137</td>\n",
       "      <td>115.582730</td>\n",
       "      <td>115.789763</td>\n",
       "      <td>115.854198</td>\n",
       "      <td>115.970722</td>\n",
       "      <td>1.163432e+02</td>\n",
       "    </tr>\n",
       "    <tr>\n",
       "      <th>NEAREST_SCH_DIST</th>\n",
       "      <td>33656.0</td>\n",
       "      <td>1.815268</td>\n",
       "      <td>1.746000</td>\n",
       "      <td>0.070912</td>\n",
       "      <td>0.880568</td>\n",
       "      <td>1.345520</td>\n",
       "      <td>2.097225</td>\n",
       "      <td>2.325437e+01</td>\n",
       "    </tr>\n",
       "    <tr>\n",
       "      <th>NEAREST_SCH_RANK</th>\n",
       "      <td>22704.0</td>\n",
       "      <td>72.672569</td>\n",
       "      <td>40.639795</td>\n",
       "      <td>1.000000</td>\n",
       "      <td>39.000000</td>\n",
       "      <td>68.000000</td>\n",
       "      <td>105.000000</td>\n",
       "      <td>1.390000e+02</td>\n",
       "    </tr>\n",
       "  </tbody>\n",
       "</table>\n",
       "</div>"
      ],
      "text/plain": [
       "                    count           mean            std           min  \\\n",
       "PRICE             33656.0  637072.005794  355825.632737  51000.000000   \n",
       "BEDROOMS          33656.0       3.659110       0.752038      1.000000   \n",
       "BATHROOMS         33656.0       1.823063       0.587427      1.000000   \n",
       "GARAGE            31178.0       2.199917       1.365225      1.000000   \n",
       "LAND_AREA         33656.0    2740.644016   16693.513215     61.000000   \n",
       "FLOOR_AREA        33656.0     183.501545      72.102982      1.000000   \n",
       "BUILD_YEAR        30501.0    1989.706436      20.964330   1868.000000   \n",
       "CBD_DIST          33656.0   19777.374465   11364.415413    681.000000   \n",
       "NEAREST_STN_DIST  33656.0    4523.371494    4495.064024     46.000000   \n",
       "POSTCODE          33656.0    6089.420074      62.167921   6003.000000   \n",
       "LATITUDE          33656.0     -31.960664       0.177780    -32.472979   \n",
       "LONGITUDE         33656.0     115.879265       0.118137    115.582730   \n",
       "NEAREST_SCH_DIST  33656.0       1.815268       1.746000      0.070912   \n",
       "NEAREST_SCH_RANK  22704.0      72.672569      40.639795      1.000000   \n",
       "\n",
       "                            25%            50%            75%           max  \n",
       "PRICE             410000.000000  535500.000000  760000.000000  2.440000e+06  \n",
       "BEDROOMS               3.000000       4.000000       4.000000  1.000000e+01  \n",
       "BATHROOMS              1.000000       2.000000       2.000000  1.600000e+01  \n",
       "GARAGE                 2.000000       2.000000       2.000000  9.900000e+01  \n",
       "LAND_AREA            503.000000     682.000000     838.000000  9.999990e+05  \n",
       "FLOOR_AREA           130.000000     172.000000     222.250000  8.700000e+02  \n",
       "BUILD_YEAR          1978.000000    1995.000000    2005.000000  2.017000e+03  \n",
       "CBD_DIST           11200.000000   17500.000000   26600.000000  5.980000e+04  \n",
       "NEAREST_STN_DIST    1800.000000    3200.000000    5300.000000  3.550000e+04  \n",
       "POSTCODE            6050.000000    6069.000000    6150.000000  6.558000e+03  \n",
       "LATITUDE             -32.068437     -31.933231     -31.843818 -3.145745e+01  \n",
       "LONGITUDE            115.789763     115.854198     115.970722  1.163432e+02  \n",
       "NEAREST_SCH_DIST       0.880568       1.345520       2.097225  2.325437e+01  \n",
       "NEAREST_SCH_RANK      39.000000      68.000000     105.000000  1.390000e+02  "
      ]
     },
     "execution_count": 10,
     "metadata": {},
     "output_type": "execute_result"
    }
   ],
   "source": [
    "df.describe().T"
   ]
  },
  {
   "cell_type": "code",
   "execution_count": 11,
   "id": "aa377f24-4de9-4df9-bdc2-84f303074fd7",
   "metadata": {},
   "outputs": [
    {
     "data": {
      "text/html": [
       "<div>\n",
       "<style scoped>\n",
       "    .dataframe tbody tr th:only-of-type {\n",
       "        vertical-align: middle;\n",
       "    }\n",
       "\n",
       "    .dataframe tbody tr th {\n",
       "        vertical-align: top;\n",
       "    }\n",
       "\n",
       "    .dataframe thead th {\n",
       "        text-align: right;\n",
       "    }\n",
       "</style>\n",
       "<table border=\"1\" class=\"dataframe\">\n",
       "  <thead>\n",
       "    <tr style=\"text-align: right;\">\n",
       "      <th></th>\n",
       "      <th>count</th>\n",
       "      <th>unique</th>\n",
       "      <th>top</th>\n",
       "      <th>freq</th>\n",
       "    </tr>\n",
       "  </thead>\n",
       "  <tbody>\n",
       "    <tr>\n",
       "      <th>ADDRESS</th>\n",
       "      <td>33656</td>\n",
       "      <td>33566</td>\n",
       "      <td>123 Fairway</td>\n",
       "      <td>3</td>\n",
       "    </tr>\n",
       "    <tr>\n",
       "      <th>SUBURB</th>\n",
       "      <td>33656</td>\n",
       "      <td>321</td>\n",
       "      <td>Bertram</td>\n",
       "      <td>231</td>\n",
       "    </tr>\n",
       "    <tr>\n",
       "      <th>NEAREST_STN</th>\n",
       "      <td>33656</td>\n",
       "      <td>68</td>\n",
       "      <td>Midland Station</td>\n",
       "      <td>4141</td>\n",
       "    </tr>\n",
       "    <tr>\n",
       "      <th>DATE_SOLD</th>\n",
       "      <td>33656</td>\n",
       "      <td>350</td>\n",
       "      <td>10-2020\\r</td>\n",
       "      <td>628</td>\n",
       "    </tr>\n",
       "    <tr>\n",
       "      <th>NEAREST_SCH</th>\n",
       "      <td>33656</td>\n",
       "      <td>160</td>\n",
       "      <td>SWAN VIEW SENIOR HIGH SCHOOL</td>\n",
       "      <td>895</td>\n",
       "    </tr>\n",
       "  </tbody>\n",
       "</table>\n",
       "</div>"
      ],
      "text/plain": [
       "             count unique                           top  freq\n",
       "ADDRESS      33656  33566                   123 Fairway     3\n",
       "SUBURB       33656    321                       Bertram   231\n",
       "NEAREST_STN  33656     68               Midland Station  4141\n",
       "DATE_SOLD    33656    350                     10-2020\\r   628\n",
       "NEAREST_SCH  33656    160  SWAN VIEW SENIOR HIGH SCHOOL   895"
      ]
     },
     "execution_count": 11,
     "metadata": {},
     "output_type": "execute_result"
    }
   ],
   "source": [
    "df.describe(include='object').T"
   ]
  },
  {
   "cell_type": "code",
   "execution_count": 12,
   "id": "25adb456-f830-4cc8-be59-91ccbb87c4b9",
   "metadata": {},
   "outputs": [
    {
     "data": {
      "text/plain": [
       "16585"
      ]
     },
     "execution_count": 12,
     "metadata": {},
     "output_type": "execute_result"
    }
   ],
   "source": [
    "df.isnull().sum().sum()"
   ]
  },
  {
   "cell_type": "code",
   "execution_count": 13,
   "id": "dc894287-e264-4710-b182-7a35c652dea3",
   "metadata": {},
   "outputs": [
    {
     "data": {
      "text/plain": [
       "ADDRESS                 0\n",
       "SUBURB                  0\n",
       "PRICE                   0\n",
       "BEDROOMS                0\n",
       "BATHROOMS               0\n",
       "GARAGE               2478\n",
       "LAND_AREA               0\n",
       "FLOOR_AREA              0\n",
       "BUILD_YEAR           3155\n",
       "CBD_DIST                0\n",
       "NEAREST_STN             0\n",
       "NEAREST_STN_DIST        0\n",
       "DATE_SOLD               0\n",
       "POSTCODE                0\n",
       "LATITUDE                0\n",
       "LONGITUDE               0\n",
       "NEAREST_SCH             0\n",
       "NEAREST_SCH_DIST        0\n",
       "NEAREST_SCH_RANK    10952\n",
       "dtype: int64"
      ]
     },
     "execution_count": 13,
     "metadata": {},
     "output_type": "execute_result"
    }
   ],
   "source": [
    "df.isnull().sum()"
   ]
  },
  {
   "cell_type": "code",
   "execution_count": 14,
   "id": "120e21de-f779-4d4a-b3a8-ed0aafa73a72",
   "metadata": {},
   "outputs": [
    {
     "data": {
      "text/plain": [
       "array([2003., 2013., 1979., 1953., 1998., 1991., 2014., 1983., 1999.,\n",
       "       1977., 2008., 2002., 2004., 1985., 1994., 1959., 1981., 2000.,\n",
       "       1972., 2007., 1920., 2006.,   nan, 2012., 1996., 1988., 1974.,\n",
       "       1989., 1978., 2005., 2011., 1952., 1960., 2015., 2001., 1945.,\n",
       "       1993., 2010., 1950., 1995., 2016., 1965., 1992., 1982., 1958.,\n",
       "       1970., 1987., 1990., 1975., 1984., 1980., 1968., 1986., 1962.,\n",
       "       2017., 1930., 1900., 2009., 1997., 1969., 1935., 1955., 1966.,\n",
       "       1976., 1951., 1964., 1923., 1973., 1910., 1957., 1971., 1967.,\n",
       "       1961., 1948., 1928., 1963., 1956., 1949., 1946., 1915., 1939.,\n",
       "       1897., 1927., 1947., 1936., 1933., 1940., 1922., 1954., 1937.,\n",
       "       1917., 1924., 1938., 1912., 1925., 1919., 1929., 1934., 1905.,\n",
       "       1942., 1921., 1890., 1913., 1918., 1904., 1870., 1903., 1908.,\n",
       "       1914., 1932., 1926., 1941., 1931., 1894., 1916., 1868., 1886.,\n",
       "       1880., 1907., 1902., 1943., 1895., 1892., 1889., 1901.])"
      ]
     },
     "execution_count": 14,
     "metadata": {},
     "output_type": "execute_result"
    }
   ],
   "source": [
    "df['BUILD_YEAR'].unique()"
   ]
  },
  {
   "cell_type": "code",
   "execution_count": 15,
   "id": "8d015320-3e8d-48e9-ab08-00683eff4749",
   "metadata": {},
   "outputs": [
    {
     "data": {
      "text/plain": [
       "array([ nan, 129., 113.,  29.,  39.,  89.,  98., 137.,  62., 131., 130.,\n",
       "        10.,  35.,  52.,  78.,  93., 135.,  17.,  55.,  96.,  92., 125.,\n",
       "        91.,  20.,  38.,  24.,  47.,  50.,   6.,  87.,  86.,  42., 138.,\n",
       "        99.,   7., 107.,  75.,  19.,  46.,  34., 133.,  28., 104., 114.,\n",
       "       122.,   8.,  60.,  23., 116.,  61.,  58.,  22.,   1., 128., 102.,\n",
       "        97.,   3., 109.,  53.,  80.,  51.,  65.,  40.,  57., 121.,  74.,\n",
       "        16., 118.,  44., 134., 117., 105.,  32., 139.,  14.,   5., 136.,\n",
       "        83.,  18.,  85.,  12.,  77.,  13., 100.,  21., 120.,  68.,  43.,\n",
       "        25.,  31.,  37.,   9.,   2.,  11., 106.,   4.,  56., 111.,  41.,\n",
       "        88.,  15., 119.,  71.,  49.])"
      ]
     },
     "execution_count": 15,
     "metadata": {},
     "output_type": "execute_result"
    }
   ],
   "source": [
    "df['NEAREST_SCH_RANK'].unique()"
   ]
  },
  {
   "cell_type": "code",
   "execution_count": 16,
   "id": "2dfa37b2-40ab-4d7b-8140-4ee6b4f67bd6",
   "metadata": {},
   "outputs": [],
   "source": [
    "df['BUILD_YEAR']=df['BUILD_YEAR'].dropna()"
   ]
  },
  {
   "cell_type": "code",
   "execution_count": 17,
   "id": "938fbd1a-62a0-4179-bd61-7501e1e6db29",
   "metadata": {},
   "outputs": [],
   "source": [
    "df=df.fillna(value=0)"
   ]
  },
  {
   "cell_type": "code",
   "execution_count": 18,
   "id": "6530fbcd-1f3b-47c9-9a2a-075f9ebd770f",
   "metadata": {},
   "outputs": [
    {
     "data": {
      "text/plain": [
       "0"
      ]
     },
     "execution_count": 18,
     "metadata": {},
     "output_type": "execute_result"
    }
   ],
   "source": [
    "df.isnull().sum().sum()"
   ]
  },
  {
   "cell_type": "code",
   "execution_count": 19,
   "id": "22f691c4-48d2-404b-a94e-151ac43ff8f5",
   "metadata": {},
   "outputs": [
    {
     "data": {
      "text/plain": [
       "0"
      ]
     },
     "execution_count": 19,
     "metadata": {},
     "output_type": "execute_result"
    }
   ],
   "source": [
    "df.duplicated().sum()"
   ]
  },
  {
   "cell_type": "code",
   "execution_count": 20,
   "id": "c5630336-a943-44ec-8e2c-0f0162fcc996",
   "metadata": {},
   "outputs": [],
   "source": [
    "df['GARAGE'] = df['GARAGE'].astype(int)"
   ]
  },
  {
   "cell_type": "code",
   "execution_count": 22,
   "id": "1cbbe3c4-191e-4f75-9e2d-8ad2d780a048",
   "metadata": {},
   "outputs": [],
   "source": [
    "df['BUILD_YEAR'] = df['BUILD_YEAR'].astype(int)"
   ]
  },
  {
   "cell_type": "code",
   "execution_count": 23,
   "id": "e62f5c93-ea32-464c-a2a6-b12f27b76825",
   "metadata": {},
   "outputs": [],
   "source": [
    "df['NEAREST_SCH_RANK']=df['NEAREST_SCH_RANK'].astype(int)"
   ]
  },
  {
   "cell_type": "code",
   "execution_count": 24,
   "id": "c3aa1f81-8a10-417a-afc5-db1fa8e69d16",
   "metadata": {},
   "outputs": [
    {
     "name": "stderr",
     "output_type": "stream",
     "text": [
      "C:\\Users\\sara hani\\AppData\\Local\\Temp\\ipykernel_47416\\2522233195.py:1: UserWarning: \n",
      "\n",
      "`distplot` is a deprecated function and will be removed in seaborn v0.14.0.\n",
      "\n",
      "Please adapt your code to use either `displot` (a figure-level function with\n",
      "similar flexibility) or `histplot` (an axes-level function for histograms).\n",
      "\n",
      "For a guide to updating your code to use the new functions, please see\n",
      "https://gist.github.com/mwaskom/de44147ed2974457ad6372750bbe5751\n",
      "\n",
      "  sns.distplot(df['PRICE'])\n",
      "C:\\Users\\sara hani\\Downloads\\Programs\\Lib\\site-packages\\seaborn\\_oldcore.py:1119: FutureWarning: use_inf_as_na option is deprecated and will be removed in a future version. Convert inf values to NaN before operating instead.\n",
      "  with pd.option_context('mode.use_inf_as_na', True):\n"
     ]
    },
    {
     "data": {
      "text/plain": [
       "<Axes: xlabel='PRICE', ylabel='Density'>"
      ]
     },
     "execution_count": 24,
     "metadata": {},
     "output_type": "execute_result"
    },
    {
     "data": {
      "image/png": "[encoded data removed]",
      "text/plain": [
       "<Figure size 640x480 with 1 Axes>"
      ]
     },
     "metadata": {},
     "output_type": "display_data"
    }
   ],
   "source": [
    "sns.distplot(df['PRICE'])"
   ]
  },
  {
   "cell_type": "code",
   "execution_count": 25,
   "id": "2c754cbd-4ff5-49e6-9c7a-c7170abdd81b",
   "metadata": {},
   "outputs": [
    {
     "data": {
      "text/plain": [
       "{'whiskers': [<matplotlib.lines.Line2D at 0x28c8e001d50>,\n",
       "  <matplotlib.lines.Line2D at 0x28c8e002710>],\n",
       " 'caps': [<matplotlib.lines.Line2D at 0x28c8df28050>,\n",
       "  <matplotlib.lines.Line2D at 0x28c8e003990>],\n",
       " 'boxes': [<matplotlib.lines.Line2D at 0x28c8e001310>],\n",
       " 'medians': [<matplotlib.lines.Line2D at 0x28c8ea68290>],\n",
       " 'fliers': [<matplotlib.lines.Line2D at 0x28c8ea68a50>],\n",
       " 'means': []}"
      ]
     },
     "execution_count": 25,
     "metadata": {},
     "output_type": "execute_result"
    },
    {
     "data": {
      "image/png": "[encoded data removed]",
      "text/plain": [
       "<Figure size 640x480 with 1 Axes>"
      ]
     },
     "metadata": {},
     "output_type": "display_data"
    }
   ],
   "source": [
    "plt.boxplot(df['POSTCODE'])"
   ]
  },
  {
   "cell_type": "code",
   "execution_count": 28,
   "id": "12d75994-eff7-4c8c-8556-bd1d4ec3d13b",
   "metadata": {},
   "outputs": [
    {
     "data": {
      "text/plain": [
       "{'whiskers': [<matplotlib.lines.Line2D at 0x28c8eab2650>,\n",
       "  <matplotlib.lines.Line2D at 0x28c8eab2f90>],\n",
       " 'caps': [<matplotlib.lines.Line2D at 0x28c8eab38d0>,\n",
       "  <matplotlib.lines.Line2D at 0x28c8eac0250>],\n",
       " 'boxes': [<matplotlib.lines.Line2D at 0x28c8eab1e50>],\n",
       " 'medians': [<matplotlib.lines.Line2D at 0x28c8eac0b10>],\n",
       " 'fliers': [<matplotlib.lines.Line2D at 0x28c8eac1310>],\n",
       " 'means': []}"
      ]
     },
     "execution_count": 28,
     "metadata": {},
     "output_type": "execute_result"
    },
    {
     "data": {
      "image/png": "[encoded data removed]",
      "text/plain": [
       "<Figure size 640x480 with 1 Axes>"
      ]
     },
     "metadata": {},
     "output_type": "display_data"
    }
   ],
   "source": [
    "plt.boxplot(df['LATITUDE'])"
   ]
  },
  {
   "cell_type": "code",
   "execution_count": 29,
   "id": "c5be3a10-a2fa-41bf-b2dc-80575949e032",
   "metadata": {},
   "outputs": [
    {
     "data": {
      "text/plain": [
       "{'whiskers': [<matplotlib.lines.Line2D at 0x28c8eb15790>,\n",
       "  <matplotlib.lines.Line2D at 0x28c8eb161d0>],\n",
       " 'caps': [<matplotlib.lines.Line2D at 0x28c8eb16bd0>,\n",
       "  <matplotlib.lines.Line2D at 0x28c8eb17590>],\n",
       " 'boxes': [<matplotlib.lines.Line2D at 0x28c8eb14f90>],\n",
       " 'medians': [<matplotlib.lines.Line2D at 0x28c8eb17e50>],\n",
       " 'fliers': [<matplotlib.lines.Line2D at 0x28c8eb20650>],\n",
       " 'means': []}"
      ]
     },
     "execution_count": 29,
     "metadata": {},
     "output_type": "execute_result"
    },
    {
     "data": {
      "image/png": "[encoded data removed]",
      "text/plain": [
       "<Figure size 640x480 with 1 Axes>"
      ]
     },
     "metadata": {},
     "output_type": "display_data"
    }
   ],
   "source": [
    "plt.boxplot(df['LONGITUDE'])"
   ]
  },
  {
   "cell_type": "code",
   "execution_count": 30,
   "id": "47f1d1cd-dbe3-4e17-991c-79f0285dac88",
   "metadata": {},
   "outputs": [],
   "source": [
    "Q1 = df['POSTCODE'].quantile(0.25)\n",
    "Q3 = df['POSTCODE'].quantile(0.75)\n",
    "\n",
    "IQR = Q3 - Q1\n",
    "\n",
    "lower_bound = Q1 - 1.5 * IQR\n",
    "upper_bound = Q3 + 1.5 * IQR\n",
    "\n",
    "df = df[(df['POSTCODE'] >= lower_bound) & (df['POSTCODE'] <= upper_bound)]"
   ]
  },
  {
   "cell_type": "code",
   "execution_count": 31,
   "id": "b1fac813-2ada-46ee-adc8-33ac1f15238c",
   "metadata": {},
   "outputs": [],
   "source": [
    "Q1 = df['LONGITUDE'].quantile(0.25)\n",
    "Q3 = df['LONGITUDE'].quantile(0.75)\n",
    "\n",
    "IQR = Q3 - Q1\n",
    "\n",
    "lower_bound = Q1 - 1.5 * IQR\n",
    "upper_bound = Q3 + 1.5 * IQR\n",
    "\n",
    "df = df[(df['LONGITUDE'] >= lower_bound) & (df['LONGITUDE'] <= upper_bound)]"
   ]
  },
  {
   "cell_type": "code",
   "execution_count": 32,
   "id": "7f8f278d-375b-4f77-be91-410335d0cf44",
   "metadata": {},
   "outputs": [],
   "source": [
    "Q1 = df['LATITUDE'].quantile(0.25)\n",
    "Q3 = df['LATITUDE'].quantile(0.75)\n",
    "\n",
    "IQR = Q3 - Q1\n",
    "\n",
    "lower_bound = Q1 - 1.5 * IQR\n",
    "upper_bound = Q3 + 1.5 * IQR\n",
    "\n",
    "df = df[(df['LATITUDE'] >= lower_bound) & (df['LATITUDE'] <= upper_bound)]"
   ]
  },
  {
   "cell_type": "code",
   "execution_count": 33,
   "id": "3a70934c-bdcb-4ab0-85f7-b1e4712c21b2",
   "metadata": {},
   "outputs": [
    {
     "data": {
      "text/plain": [
       "{'whiskers': [<matplotlib.lines.Line2D at 0x28c8d7388d0>,\n",
       "  <matplotlib.lines.Line2D at 0x28c8d739190>],\n",
       " 'caps': [<matplotlib.lines.Line2D at 0x28c8d739b10>,\n",
       "  <matplotlib.lines.Line2D at 0x28c8d728810>],\n",
       " 'boxes': [<matplotlib.lines.Line2D at 0x28c8d738090>],\n",
       " 'medians': [<matplotlib.lines.Line2D at 0x28c8d73aa50>],\n",
       " 'fliers': [<matplotlib.lines.Line2D at 0x28c8d73b310>],\n",
       " 'means': []}"
      ]
     },
     "execution_count": 33,
     "metadata": {},
     "output_type": "execute_result"
    },
    {
     "data": {
      "image/png": "[encoded data removed]",
      "text/plain": [
       "<Figure size 640x480 with 1 Axes>"
      ]
     },
     "metadata": {},
     "output_type": "display_data"
    }
   ],
   "source": [
    "plt.boxplot(df['POSTCODE'])"
   ]
  },
  {
   "cell_type": "code",
   "execution_count": 34,
   "id": "e8d4b4f8-e8da-4e7d-8d9d-5040661a644e",
   "metadata": {},
   "outputs": [
    {
     "data": {
      "text/plain": [
       "{'whiskers': [<matplotlib.lines.Line2D at 0x28c8d7a8590>,\n",
       "  <matplotlib.lines.Line2D at 0x28c8d7982d0>],\n",
       " 'caps': [<matplotlib.lines.Line2D at 0x28c8d7a9650>,\n",
       "  <matplotlib.lines.Line2D at 0x28c8d7aa050>],\n",
       " 'boxes': [<matplotlib.lines.Line2D at 0x28c8d79bd10>],\n",
       " 'medians': [<matplotlib.lines.Line2D at 0x28c8d7aa850>],\n",
       " 'fliers': [<matplotlib.lines.Line2D at 0x28c8d7ab050>],\n",
       " 'means': []}"
      ]
     },
     "execution_count": 34,
     "metadata": {},
     "output_type": "execute_result"
    },
    {
     "data": {
      "image/png": "[encoded data removed]",
      "text/plain": [
       "<Figure size 640x480 with 1 Axes>"
      ]
     },
     "metadata": {},
     "output_type": "display_data"
    }
   ],
   "source": [
    "plt.boxplot(df['LATITUDE'])"
   ]
  },
  {
   "cell_type": "code",
   "execution_count": 35,
   "id": "2236e4e5-a400-4e15-a4d4-6ed7712b44f9",
   "metadata": {},
   "outputs": [
    {
     "data": {
      "text/plain": [
       "{'whiskers': [<matplotlib.lines.Line2D at 0x28c8d7fe290>,\n",
       "  <matplotlib.lines.Line2D at 0x28c8d7fee50>],\n",
       " 'caps': [<matplotlib.lines.Line2D at 0x28c8d7ff910>,\n",
       "  <matplotlib.lines.Line2D at 0x28c8d80c4d0>],\n",
       " 'boxes': [<matplotlib.lines.Line2D at 0x28c8d7fd650>],\n",
       " 'medians': [<matplotlib.lines.Line2D at 0x28c8d80cf90>],\n",
       " 'fliers': [<matplotlib.lines.Line2D at 0x28c8d80d910>],\n",
       " 'means': []}"
      ]
     },
     "execution_count": 35,
     "metadata": {},
     "output_type": "execute_result"
    },
    {
     "data": {
      "image/png": "[encoded data removed]",
      "text/plain": [
       "<Figure size 640x480 with 1 Axes>"
      ]
     },
     "metadata": {},
     "output_type": "display_data"
    }
   ],
   "source": [
    "plt.boxplot(df['LONGITUDE'])"
   ]
  },
  {
   "cell_type": "code",
   "execution_count": 42,
   "id": "cde40732-9e80-489d-b46f-bd5fbf09f094",
   "metadata": {},
   "outputs": [
    {
     "name": "stdout",
     "output_type": "stream",
     "text": [
      "Current Working Directory: C:\\Users\\sara hani\n",
      "Files in Directory: ['.anaconda', '.cache', '.conda', '.condarc', '.continuum', '.ipynb_checkpoints', '.ipython', '.jupyter', '.m2', '.matplotlib', '.nbi', '.vscode', 'anaconda3', 'AppData', 'Application Data', 'c++ project', 'cargame.csv', 'Contacts', 'Cookies', 'data2.csv', 'Desktop - Shortcut.lnk', 'Documents', 'Downloads', 'Favorites', 'first_project.ipynb', 'FProjectt.ipynb', 'house_price.csv', 'house_price.xlsx', 'Kk.cpp', 'Kk.exe', 'Links', 'Local Settings', 'Music', 'My Documents', 'NetHood', 'NTI1.ipynb', 'NTUSER.DAT', 'ntuser.dat.LOG1', 'ntuser.dat.LOG2', 'NTUSER.DAT{a2332f17-cdbf-11ec-8680-002248483d79}.TxR.0.regtrans-ms', 'NTUSER.DAT{a2332f17-cdbf-11ec-8680-002248483d79}.TxR.1.regtrans-ms', 'NTUSER.DAT{a2332f17-cdbf-11ec-8680-002248483d79}.TxR.2.regtrans-ms', 'NTUSER.DAT{a2332f17-cdbf-11ec-8680-002248483d79}.TxR.blf', 'NTUSER.DAT{a2332f18-cdbf-11ec-8680-002248483d79}.TM.blf', 'NTUSER.DAT{a2332f18-cdbf-11ec-8680-002248483d79}.TMContainer00000000000000000001.regtrans-ms', 'NTUSER.DAT{a2332f18-cdbf-11ec-8680-002248483d79}.TMContainer00000000000000000002.regtrans-ms', 'ntuser.ini', 'OneDrive', 'php', 'PrintHood', 'Recent', 'sara.cpp', 'Saved Games', 'Searches', 'SendTo', 'source', 'Start Menu', 'Templates', 'try.ipynb', 'Untitled.ipynb', 'Untitled1.ipynb', 'Untitled4.ipynb', 'Untitled5.ipynb', 'Untitled6.ipynb', 'Videos']\n"
     ]
    }
   ],
   "source": [
    "df.to_csv('house_price.csv', index=False)\n",
    "df.to_excel('house_price.xlsx', index=False)\n",
    "\n",
    "# # Print the current working directory to ensure the files are saved there\n",
    "import os\n",
    "print(\"Current Working Directory:\", os.getcwd())\n",
    "\n",
    "# # List all files in the directory to check if they were saved\n",
    "print(\"Files in Directory:\", os.listdir(os.getcwd()))"
   ]
  },
  {
   "cell_type": "code",
   "execution_count": 43,
   "id": "d0f1202f-748a-4703-85cf-7c5ebe100112",
   "metadata": {},
   "outputs": [
    {
     "data": {
      "text/html": [
       "<a href='house_price.csv' target='_blank'>house_price.csv</a><br>"
      ],
      "text/plain": [
       "C:\\Users\\sara hani\\house_price.csv"
      ]
     },
     "metadata": {},
     "output_type": "display_data"
    },
    {
     "data": {
      "text/html": [
       "<a href='house_price.xlsx' target='_blank'>house_price.xlsx</a><br>"
      ],
      "text/plain": [
       "C:\\Users\\sara hani\\house_price.xlsx"
      ]
     },
     "metadata": {},
     "output_type": "display_data"
    }
   ],
   "source": [
    "from IPython.display import FileLink\n",
    "\n",
    "# Provide a link to download the CSV file\n",
    "display(FileLink('house_price.csv'))\n",
    "\n",
    "# Provide a link to download the Excel file\n",
    "display(FileLink('house_price.xlsx'))\n"
   ]
  },
  {
   "cell_type": "code",
   "execution_count": null,
   "id": "9bc1a134-f2c5-4157-a623-cfd24b7158ae",
   "metadata": {},
   "outputs": [],
   "source": []
  }
 ],
 "metadata": {
  "kernelspec": {
   "display_name": "Python 3 (ipykernel)",
   "language": "python",
   "name": "python3"
  },
  "language_info": {
   "codemirror_mode": {
    "name": "ipython",
    "version": 3
   },
   "file_extension": ".py",
   "mimetype": "text/x-python",
   "name": "python",
   "nbconvert_exporter": "python",
   "pygments_lexer": "ipython3",
   "version": "3.11.7"
  }
 },
 "nbformat": 4,
 "nbformat_minor": 5
}
